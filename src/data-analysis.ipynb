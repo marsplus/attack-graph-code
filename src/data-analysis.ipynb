{
 "cells": [
  {
   "cell_type": "markdown",
   "metadata": {},
   "source": [
    "# Some imports and helper code"
   ]
  },
  {
   "cell_type": "code",
   "execution_count": 719,
   "metadata": {},
   "outputs": [
    {
     "name": "stdout",
     "output_type": "stream",
     "text": [
      "The autoreload extension is already loaded. To reload it, use:\n",
      "  %reload_ext autoreload\n"
     ]
    }
   ],
   "source": [
    "import os\n",
    "import pickle\n",
    "import seaborn\n",
    "import numpy as np\n",
    "import pandas as pd\n",
    "import scipy as sci\n",
    "import networkx as nx\n",
    "import numpy.linalg as LIN\n",
    "import matplotlib.pylab as plt\n",
    "from utils import *\n",
    "np.random.seed(1)\n",
    "\n",
    "%matplotlib inline \n",
    "%load_ext autoreload\n",
    "\n",
    "plt.style.use('seaborn-paper')\n",
    "seaborn.set_context('paper', font_scale=2.2)\n",
    "plt.rcParams['figure.figsize'] = (6, 4)\n",
    "plt.rcParams['font.weight'] = 'medium'"
   ]
  },
  {
   "cell_type": "code",
   "execution_count": null,
   "metadata": {},
   "outputs": [],
   "source": []
  },
  {
   "cell_type": "code",
   "execution_count": null,
   "metadata": {},
   "outputs": [],
   "source": []
  },
  {
   "cell_type": "code",
   "execution_count": null,
   "metadata": {},
   "outputs": [],
   "source": []
  },
  {
   "cell_type": "code",
   "execution_count": null,
   "metadata": {},
   "outputs": [],
   "source": []
  },
  {
   "cell_type": "code",
   "execution_count": null,
   "metadata": {},
   "outputs": [],
   "source": []
  },
  {
   "cell_type": "code",
   "execution_count": null,
   "metadata": {},
   "outputs": [],
   "source": []
  },
  {
   "cell_type": "markdown",
   "metadata": {},
   "source": [
    "### Simulation results of epidemic spreading"
   ]
  },
  {
   "cell_type": "code",
   "execution_count": 756,
   "metadata": {},
   "outputs": [
    {
     "data": {
      "image/png": "[encoded data removed]",
      "text/plain": [
       "<Figure size 432x288 with 1 Axes>"
      ]
     },
     "metadata": {
      "needs_background": "light"
     },
     "output_type": "display_data"
    }
   ],
   "source": [
    "graph_type = 'Small-World'\n",
    "graph_weight = 'unweighted'\n",
    "mode = 'min_eigcent_SP'\n",
    "GAMMA = 0.5\n",
    "TAU = 0.05\n",
    "numExp = 1 if graph_type in ['Email', 'Airport', 'Protein', 'Brain'] else 30\n",
    "\n",
    "\n",
    "min_budget = {\n",
    "    'BA': 0.0657,\n",
    "    'Small-World': 0.2032,\n",
    "    'BTER': 0.0585\n",
    "}\n",
    "\n",
    "\n",
    "with open('../result/{}/{}/{}-SIS/Gamma-{:.2f}---Tau-{:.2f}-robustness/{}_numExp_{}_SIS_equalAlpha.p'.format(\\\n",
    "                                                graph_weight, mode, graph_type, GAMMA, TAU, graph_type, numExp), 'rb') as fid:\n",
    "    data = pickle.load(fid)\n",
    "data = data[~(data['ratio targets'].isin([0]) & data['ratio bystanders'].isin([0]))]\n",
    "data = data.dropna()\n",
    "\n",
    "\n",
    "SP_err = []\n",
    "Key = 'ratio bystanders'\n",
    "for budget in [0.05, 0.1, 0.15,  0.2, 0.25,  0.3, 0.35, 0.4, 0.45, 0.5]:\n",
    "    a = data[data['graph'].isin(['attacked']) & data['budget'].isin([budget])][Key] \n",
    "    a.index = range(len(a))\n",
    "    b = data[data['graph'].isin(['original']) & data['budget'].isin([budget])][Key]\n",
    "    b.index = range(len(b))\n",
    "    SP_err.append((a-b).sem() * 1.96)\n",
    "    \n",
    "S_err = []\n",
    "Key = 'ratio targets'\n",
    "for budget in [0.05, 0.1, 0.15,  0.2, 0.25,  0.3, 0.35, 0.4, 0.45, 0.5]:\n",
    "    a = data[data['graph'].isin(['attacked']) & data['budget'].isin([budget])][Key] \n",
    "    a.index = range(len(a))\n",
    "    b = data[data['graph'].isin(['original']) & data['budget'].isin([budget])][Key]\n",
    "    b.index = range(len(b))\n",
    "    S_err.append((a-b).sem() * 1.96)\n",
    "    \n",
    "    \n",
    "S_attacked = data.pivot_table(index=['graph', 'budget'])['ratio targets']['attacked']\n",
    "S_original = data.pivot_table(index=['graph', 'budget'])['ratio targets']['original']\n",
    "\n",
    "SP_attacked = data.pivot_table(index=['graph', 'budget'])['ratio bystanders']['attacked']\n",
    "SP_original = data.pivot_table(index=['graph', 'budget'])['ratio bystanders']['original']\n",
    "\n",
    "S_diff  = S_attacked - S_original\n",
    "SP_diff = SP_attacked - SP_original\n",
    "\n",
    "plt.tick_params(\n",
    "    axis='x',          # changes apply to the x-axis\n",
    "    which='both',      # both major and minor ticks are affected\n",
    "    bottom=True,      # ticks along the bottom edge are off\n",
    "    top=False,         # ticks along the top edge are off\n",
    "    labelbottom=False) # labels along the bottom edge are off\n",
    "\n",
    "# x = [0.1, 0.2, 0.3, 0.4, 0.5]\n",
    "x = [0.05, 0.1, 0.15,  0.2, 0.25,  0.3, 0.35, 0.4, 0.45, 0.5]\n",
    "plt.errorbar(x, S_diff, yerr=S_err, label='$G_S$', linewidth=2, markersize=7, capsize=5, elinewidth=2, markeredgewidth=2)\n",
    "# plt.errorbar(x, SP_diff, yerr=SP_err, label='$G_{S\\'}$', linewidth=2, markersize=7, capsize=5, elinewidth=2, markeredgewidth=2)\n",
    "# plt.xticks(x, ['5%', '10%', '15%', '20%', '25%', '30%', '35%', '40%', '45%', '50%'])\n",
    "plt.axvline(x=min_budget[graph_type], linestyle='-.', color='r')\n",
    "ax = plt.gca()\n",
    "plt.yticks(ax.get_yticks(),  ['%.0f%%' % (i*100) for i in ax.get_yticks()])\n",
    "plt.xlabel('$\\epsilon$', fontsize=30)\n",
    "plt.ylabel('$I_{modified} - I_{original}$', fontsize=24)\n",
    "plt.legend(loc='upper left', prop={'weight':'bold', 'size': 18})\n",
    "plt.grid(linestyle='-.')\n",
    "plt.tight_layout()\n",
    "# plt.savefig('../result/figure/{}/{}_numExp_{}_{}_overall.pdf'.format(graph_weight, graph_type, numExp, graph_weight))"
   ]
  },
  {
   "cell_type": "code",
   "execution_count": 750,
   "metadata": {},
   "outputs": [
    {
     "data": {
      "text/plain": [
       "budget\n",
       "0.01   -0.000425\n",
       "0.02    0.000963\n",
       "0.03    0.000762\n",
       "0.04    0.001570\n",
       "0.05    0.001101\n",
       "0.10    0.004825\n",
       "0.20    0.020725\n",
       "0.30    0.043036\n",
       "0.40    0.075392\n",
       "0.50    0.109721\n",
       "Name: ratio targets, dtype: float64"
      ]
     },
     "execution_count": 750,
     "metadata": {},
     "output_type": "execute_result"
    }
   ],
   "source": [
    "S_diff"
   ]
  },
  {
   "cell_type": "code",
   "execution_count": 649,
   "metadata": {},
   "outputs": [
    {
     "data": {
      "image/png": "[encoded data removed]",
      "text/plain": [
       "<Figure size 432x288 with 1 Axes>"
      ]
     },
     "metadata": {
      "needs_background": "light"
     },
     "output_type": "display_data"
    }
   ],
   "source": [
    "## Control experiments\n",
    "\n",
    "graph_type = 'Airport'\n",
    "TARGET = '3rd'\n",
    "graph_weight = 'weighted'\n",
    "mode = 'min_eigcent_SP'\n",
    "GAMMA = 0.5\n",
    "TAU = 0.1\n",
    "\n",
    "numExp = 1 if graph_type in ['Email', 'Airport', 'Protein', 'Brain'] else 30\n",
    "Key = 'ratio targets' if TARGET not in ['2nd'] else 'ratio bystanders'\n",
    "target_mapping = {\n",
    "    '1st': ['alpha2=0', 'alpha3=1'],\n",
    "    '2nd': ['equalAlpha', 'alpha2=0'],\n",
    "    '3rd': ['alpha2=0', 'alpha1=1'],\n",
    "}\n",
    "################################################################################################\n",
    "\n",
    "with open('../result/{}/{}/{}-SIS/Gamma-{:.2f}---Tau-{:.2f}/{}_numExp_{}_SIS_{}.p'.format(\\\n",
    "                                                graph_weight, mode, graph_type, GAMMA, TAU, graph_type, numExp, target_mapping[TARGET][0]), 'rb') as fid:\n",
    "    data = pickle.load(fid)\n",
    "data = data[~(data['ratio targets'].isin([0]) & data['ratio bystanders'].isin([0]))]\n",
    "data = data.dropna()\n",
    "\n",
    "S_err = []\n",
    "for budget in [0.1, 0.2, 0.3, 0.4, 0.5]:\n",
    "    a = data[data['graph'].isin(['attacked']) & data['budget'].isin([budget])][Key] \n",
    "    a.index = range(len(a))\n",
    "    b = data[data['graph'].isin(['original']) & data['budget'].isin([budget])][Key]\n",
    "    b.index = range(len(b))\n",
    "    S_err.append((a-b).sem() * 1.96)\n",
    "    \n",
    "################################################################################################\n",
    "## control experiments ##\n",
    "\n",
    "with open('../result/{}/{}/{}-SIS/Gamma-{:.2f}---Tau-{:.2f}/{}_numExp_{}_SIS_{}.p'.format(\\\n",
    "                                                graph_weight, mode, graph_type, GAMMA, TAU, graph_type, numExp, target_mapping[TARGET][1]), 'rb') as fid:\n",
    "    data_alpha3_zero = pickle.load(fid)\n",
    "data_alpha3_zero = data_alpha3_zero[~(data_alpha3_zero['ratio targets'].isin([0]) & data_alpha3_zero['ratio bystanders'].isin([0]))]\n",
    "data_alpha3_zero = data_alpha3_zero.dropna()\n",
    "    \n",
    "S_err_alpha3_zero = []\n",
    "for budget in [0.1, 0.2, 0.3, 0.4, 0.5]:\n",
    "    a = data_alpha3_zero[data_alpha3_zero['graph'].isin(['attacked']) & data_alpha3_zero['budget'].isin([budget])][Key] \n",
    "    a.index = range(len(a))\n",
    "    b = data_alpha3_zero[data_alpha3_zero['graph'].isin(['original']) & data_alpha3_zero['budget'].isin([budget])][Key]\n",
    "    b.index = range(len(b))\n",
    "    S_err_alpha3_zero.append((a-b).sem() * 1.96)\n",
    "    \n",
    "################################################################################################\n",
    "\n",
    "S_attacked = data.pivot_table(index=['graph', 'budget'])[Key]['attacked']\n",
    "S_original = data.pivot_table(index=['graph', 'budget'])[Key]['original']\n",
    "S_diff  = S_attacked - S_original\n",
    "\n",
    "S_attacked_control = data_alpha3_zero.pivot_table(index=['graph', 'budget'])[Key]['attacked']\n",
    "S_original_control = data_alpha3_zero.pivot_table(index=['graph', 'budget'])[Key]['original']\n",
    "S_diff_control = S_attacked_control - S_original_control\n",
    "\n",
    "\n",
    "x = [0.1, 0.2, 0.3, 0.4, 0.5]\n",
    "legend_mapping = {\n",
    "    '1st': ['(1/3, 0, 1/3)', '(0, 0, 1/3)'],\n",
    "    '2nd': ['(1/3, 1/3, 1/3)', '(1/3, 0, 1/3)'],\n",
    "    '3rd': ['(1/3, 0, 1/3)', '(1/3, 0, 0)'],\n",
    "}\n",
    "# plt.errorbar(x, S_diff, yerr=S_err, label=legend_mapping[TARGET][0], linewidth=2, markersize=7, \n",
    "#              capsize=5, elinewidth=2, markeredgewidth=2)\n",
    "plt.errorbar(x, S_diff_control, yerr=S_err_alpha3_zero, label=legend_mapping[TARGET][1], linewidth=2, markersize=7, \\\n",
    "             capsize=5, elinewidth=2, markeredgewidth=2, color='r')\n",
    "plt.xticks(x, ['10%', '20%', '30%', '40%', '50%'])\n",
    "ax = plt.gca()\n",
    "plt.yticks(ax.get_yticks(),  ['%.2f%%' % (i*100) for i in ax.get_yticks()])\n",
    "plt.xlabel('$\\gamma$', fontsize=30)\n",
    "if TARGET in ['1st', '3rd']:\n",
    "    plt.ylabel('$I_{modified}^S - I_{original}^{S}$', fontsize=24)\n",
    "else:\n",
    "    plt.ylabel('$I_{modified}^{S\\'} - I_{original}^{S\\'}$', fontsize=24)\n",
    "plt.legend(fontsize=13, loc='upper left')\n",
    "plt.grid(linestyle='-.')\n",
    "plt.tight_layout()\n",
    "# plt.savefig('../result/figure/{}/{}_numExp_{}_controlExp_{}_{}_higherThreshold.pdf'.format(graph_weight, graph_type, numExp, graph_weight, TARGET))"
   ]
  },
  {
   "cell_type": "code",
   "execution_count": null,
   "metadata": {},
   "outputs": [],
   "source": []
  },
  {
   "cell_type": "code",
   "execution_count": null,
   "metadata": {},
   "outputs": [],
   "source": []
  },
  {
   "cell_type": "code",
   "execution_count": 275,
   "metadata": {},
   "outputs": [
    {
     "name": "stdout",
     "output_type": "stream",
     "text": [
      "14.415055658217216\n",
      "16.57809155392885\n"
     ]
    }
   ],
   "source": [
    "### the statisticas about the largest eigenvlaues of BTER networks ###\n",
    "import seaborn\n",
    "n = 375\n",
    "ret = []\n",
    "for i in range(30):\n",
    "    G = nx.read_edgelist('../data/BTER_{:02d}.txt'.format(i), nodetype=int)\n",
    "    adj = nx.adjacency_matrix(G).todense()\n",
    "    lambda1 = LIN.eig(adj)[0].max()\n",
    "    ret.append(np.real(lambda1))\n",
    "print(np.min(ret))\n",
    "print(np.max(ret))"
   ]
  },
  {
   "cell_type": "code",
   "execution_count": null,
   "metadata": {},
   "outputs": [],
   "source": []
  },
  {
   "cell_type": "code",
   "execution_count": 651,
   "metadata": {},
   "outputs": [
    {
     "name": "stdout",
     "output_type": "stream",
     "text": [
      "17\n"
     ]
    }
   ],
   "source": [
    "### the density of S/S' as the attacker's budget increases ###\n",
    "\n",
    "graph_type = 'Airport'\n",
    "graph_weight = 'unweighted'\n",
    "numExp = 1 if graph_type in ['Email', 'Airport', 'Protein', 'Brain'] else 30\n",
    "mode = 'min_eigcent_SP'\n",
    "folder = '../result/{}/{}'.format(graph_weight, mode)\n",
    "Key = 'equalAlpha'\n",
    "graph_name = ['original', 'attacked']\n",
    "\n",
    "with open(os.path.join(folder, '{}_numExp_{}_attacked_graphs_{}.p'.format(graph_type, numExp, Key)), 'rb') as fid:\n",
    "    data = pickle.load(fid)\n",
    "\n",
    "ret = []\n",
    "for budget in [0.1, 0.2, 0.3, 0.4, 0.5]:\n",
    "    for gn in graph_name:\n",
    "        for exp in range(numExp):\n",
    "            G = data[budget][exp][gn]\n",
    "            S = [i for i in range(G.order()) if G.nodes[i]['target']]\n",
    "            G_S = G.subgraph(S)\n",
    "            ret.append((nx.density(G_S), gn, budget))\n",
    "ret = pd.DataFrame(ret, columns=['S-density', 'graph', 'budget'])\n",
    "y = ret.groupby(['graph', 'budget']).mean()\n",
    "print(len(S))"
   ]
  },
  {
   "cell_type": "code",
   "execution_count": null,
   "metadata": {},
   "outputs": [],
   "source": []
  },
  {
   "cell_type": "code",
   "execution_count": 691,
   "metadata": {},
   "outputs": [
    {
     "name": "stdout",
     "output_type": "stream",
     "text": [
      "                   lambda1  lambda1_S    max_deg  avg_deg_S  min_epsilon  \\\n",
      "graph    budget                                                            \n",
      "attacked 0.1     10.232875   5.031733  14.300000   3.404545     0.000000   \n",
      "         0.2     10.291512   6.006902  14.566667   4.169192     0.000000   \n",
      "         0.3     10.480949   6.924460  15.300000   5.035354     0.000000   \n",
      "         0.4     10.866682   7.741311  16.433333   6.209091     0.000000   \n",
      "         0.5     11.397687   8.556583  17.933333   7.778788     0.000000   \n",
      "original 0.1     10.216931   4.489691  14.300000   3.068182     2.076495   \n",
      "         0.2     10.216931   4.489691  14.300000   3.068182     2.076495   \n",
      "         0.3     10.216931   4.489691  14.300000   3.068182     2.076495   \n",
      "         0.4     10.216931   4.489691  14.300000   3.068182     2.076495   \n",
      "         0.5     10.216931   4.489691  14.300000   3.068182     2.076495   \n",
      "\n",
      "                 avaEpsilon  \n",
      "graph    budget              \n",
      "attacked 0.1       0.000000  \n",
      "         0.2       0.000000  \n",
      "         0.3       0.000000  \n",
      "         0.4       0.000000  \n",
      "         0.5       0.000000  \n",
      "original 0.1       1.021693  \n",
      "         0.2       2.043386  \n",
      "         0.3       3.065079  \n",
      "         0.4       4.086772  \n",
      "         0.5       5.108466  \n"
     ]
    }
   ],
   "source": [
    "### the largest eigenvalue of G as the attacker's budget increases ###\n",
    "\n",
    "graph_type = 'Small-World'\n",
    "numExp = 1 if graph_type in ['Email', 'Airport', 'Protein', 'Brain'] else 30\n",
    "graph_weight = 'unweighted'\n",
    "mode = 'min_eigcent_SP'\n",
    "folder = '../result/{}/{}'.format(graph_weight, mode)\n",
    "Key = 'equalAlpha'\n",
    "graph_name = ['original', 'attacked']\n",
    "\n",
    "with open(os.path.join(folder, '{}_numExp_{}_attacked_graphs_{}_robustness.p'.format(graph_type, numExp, Key)), 'rb') as fid:\n",
    "    data = pickle.load(fid)\n",
    "\n",
    "    \n",
    "ret = []\n",
    "for budget in [0.1, 0.2, 0.3, 0.4, 0.5]:\n",
    "# for budget in [0.05, 0.1, 0.15, 0.2, 0.25, 0.3, 0.35, 0.4, 0.45, 0.5]:\n",
    "    for gn in graph_name:\n",
    "        for exp in range(numExp):\n",
    "            G = data[budget][exp][gn]\n",
    "            adj = nx.adjacency_matrix(G).todense()\n",
    "            deg = adj * np.ones((len(G), 1))\n",
    "            maxDeg = np.max(deg)\n",
    "            lambda1 = np.real(LIN.eig(adj)[0].max())\n",
    "            \n",
    "            S = [i for i in range(G.order()) if G.nodes[i]['target']]\n",
    "            G_S = G.subgraph(S)\n",
    "            adj_S = nx.adjacency_matrix(G_S).todense()\n",
    "            S_deg = adj_S * np.ones((len(S), 1))\n",
    "            avgDeg_S = np.sum(S_deg) / len(S)\n",
    "            lambda1_S = np.real(LIN.eig(adj_S)[0].max())\n",
    "            \n",
    "            SP = [i for i in range(G.order()) if not G.nodes[i]['target']]\n",
    "            G_SP = G.subgraph(SP)\n",
    "            adj_SP = nx.adjacency_matrix(G_SP).todense()\n",
    "            lambda1_SP = np.real(LIN.eig(adj_SP)[0].max())\n",
    "            \n",
    "            if gn == 'original':\n",
    "                minEpsilon = np.sqrt(LIN.norm(S_deg, 2)**2 / len(S) - np.sum(S_deg)**2 / len(S)**2)\n",
    "                avaEpsilon = lambda1 * budget\n",
    "            else:\n",
    "                minEpsilon = 0\n",
    "                avaEpsilon = 0\n",
    "            \n",
    "            ret.append((lambda1, lambda1_S, maxDeg, avgDeg_S, minEpsilon, avaEpsilon, gn, budget))\n",
    "ret = pd.DataFrame(ret, columns=['lambda1', 'lambda1_S', 'max_deg', 'avg_deg_S', 'min_epsilon', 'avaEpsilon', 'graph', 'budget'])\n",
    "y = ret.groupby(['graph', 'budget']).mean()\n",
    "print(y)"
   ]
  },
  {
   "cell_type": "code",
   "execution_count": 672,
   "metadata": {},
   "outputs": [
    {
     "name": "stdout",
     "output_type": "stream",
     "text": [
      "0.08419968066145408\n"
     ]
    }
   ],
   "source": [
    "G_attacked = data[0.5][11]['attacked']\n",
    "G          = data[0.5][11]['original']\n",
    "\n",
    "A_attacked = nx.adjacency_matrix(G_attacked).todense()\n",
    "A          = nx.adjacency_matrix(G).todense()\n",
    "\n",
    "a = np.real(LIN.eig(A_attacked)[0].max())\n",
    "b = np.real(LIN.eig(A)[0].max())\n",
    "print((a-b) / b)"
   ]
  },
  {
   "cell_type": "code",
   "execution_count": null,
   "metadata": {},
   "outputs": [],
   "source": []
  },
  {
   "cell_type": "code",
   "execution_count": 186,
   "metadata": {},
   "outputs": [
    {
     "name": "stdout",
     "output_type": "stream",
     "text": [
      "                 cut size\n",
      "graph    budget          \n",
      "attacked 0.1          451\n",
      "         0.2          642\n",
      "         0.3          928\n",
      "         0.4         1374\n",
      "         0.5         1910\n",
      "original 0.1          419\n",
      "         0.2          419\n",
      "         0.3          419\n",
      "         0.4          419\n",
      "         0.5          419\n"
     ]
    }
   ],
   "source": [
    "### the cut (non-normalized) size as the attacker's budget increases ###\n",
    "\n",
    "graph_type = 'Email'\n",
    "numExp = 1 if graph_type in ['Email', 'Airport', 'Protein'] else 30\n",
    "graph_weight = 'unweighted'\n",
    "mode = 'min_eigcent_SP'\n",
    "folder = '../result/{}/{}'.format(graph_weight, mode)\n",
    "Key = 'equalAlpha'\n",
    "graph_name = ['original', 'attacked']\n",
    "\n",
    "with open(os.path.join(folder, '{}_numExp_{}_attacked_graphs_{}.p'.format(graph_type, numExp, Key)), 'rb') as fid:\n",
    "    data = pickle.load(fid)\n",
    "\n",
    "ret = []\n",
    "for budget in [0.1, 0.2, 0.3, 0.4, 0.5]:\n",
    "    for gn in graph_name:\n",
    "        for exp in range(numExp):\n",
    "            G = data[budget][exp][gn]\n",
    "            S = [i for i in range(G.order()) if G.nodes[i]['target']]\n",
    "            if graph_weight == 'weighted':\n",
    "                ret.append((nx.cut_size(G, S, weight='weight'), gn, budget))\n",
    "            else:\n",
    "                ret.append((nx.cut_size(G, S), gn, budget))\n",
    "ret = pd.DataFrame(ret, columns=['cut size', 'graph', 'budget'])\n",
    "y = ret.groupby(['graph', 'budget']).mean()\n",
    "print(y)"
   ]
  },
  {
   "cell_type": "code",
   "execution_count": null,
   "metadata": {},
   "outputs": [],
   "source": []
  },
  {
   "cell_type": "code",
   "execution_count": 164,
   "metadata": {},
   "outputs": [
    {
     "data": {
      "image/png": "[encoded data removed]",
      "text/plain": [
       "<Figure size 432x288 with 1 Axes>"
      ]
     },
     "metadata": {
      "needs_background": "light"
     },
     "output_type": "display_data"
    }
   ],
   "source": [
    "### the spectra before/after attack ###\n",
    "\n",
    "graph_type = 'Airport'\n",
    "numExp = 1 if graph_type in ['Email', 'Airport', 'Protein'] else 30\n",
    "graph_weight = 'weighted'\n",
    "mode = 'min_eigcent_SP'\n",
    "folder = '../result/{}/{}'.format(graph_weight, mode)\n",
    "Key = 'equalAlpha'\n",
    "graph_name = ['original', 'attacked']\n",
    "budget = 0.5\n",
    "exp = 0\n",
    "# 1489618.0\n",
    "\n",
    "\n",
    "with open(os.path.join(folder, '{}_numExp_{}_attacked_graphs_{}.p'.format(graph_type, numExp, Key)), 'rb') as fid:\n",
    "    data = pickle.load(fid)\n",
    "    \n",
    "ret = {'attacked': None, 'original': None}\n",
    "for key, _ in ret.items():\n",
    "    G = data[budget][exp][key]\n",
    "    adj = nx.adjacency_matrix(G).todense() \n",
    "    eigVals = sorted(np.real(LIN.eig(adj)[0]), reverse=True)\n",
    "    ret[key] = eigVals\n",
    "\n",
    "x = range(len(G))\n",
    "plt.plot(x, ret['attacked'], label='modified', linestyle='-.', linewidth=4)\n",
    "plt.plot(x, ret['original'], label='original', linewidth=4, alpha=0.5, color='r')\n",
    "plt.legend()\n",
    "plt.grid(linestyle='-.')\n",
    "plt.ylabel('eigenvalues')\n",
    "plt.xlabel('eigen-dimension')\n",
    "plt.tight_layout()\n",
    "plt.savefig('../result/figure/{}/{}_{}_eigen.pdf'.format(graph_weight, graph_type, Key))"
   ]
  },
  {
   "cell_type": "code",
   "execution_count": null,
   "metadata": {},
   "outputs": [],
   "source": []
  },
  {
   "cell_type": "code",
   "execution_count": null,
   "metadata": {},
   "outputs": [],
   "source": []
  },
  {
   "cell_type": "code",
   "execution_count": 373,
   "metadata": {},
   "outputs": [
    {
     "data": {
      "image/png": "[encoded data removed]",
      "text/plain": [
       "<Figure size 432x288 with 1 Axes>"
      ]
     },
     "metadata": {
      "needs_background": "light"
     },
     "output_type": "display_data"
    }
   ],
   "source": [
    "### the degree distributioin before/after attack ###\n",
    "import collections\n",
    "\n",
    "graph_type = 'Email'\n",
    "numExp = 1 if graph_type in ['Email', 'Airport', 'Protein', 'Brain'] else 30\n",
    "mode = 'min_eigcent_SP'\n",
    "graph_weight = 'unweighted'\n",
    "folder = '../result/{}/{}'.format(graph_weight, mode)\n",
    "Key = 'equalAlpha'\n",
    "graph_name = ['attacked', 'original']\n",
    "budget = 0.5\n",
    "exp = 0 if graph_type in ['Email', 'Airport', 'Protein', 'Brain'] else 10\n",
    "# 1489618.0\n",
    "\n",
    "\n",
    "with open(os.path.join(folder, '{}_numExp_{}_attacked_graphs_{}.p'.format(graph_type, numExp, Key)), 'rb') as fid:\n",
    "    data = pickle.load(fid)\n",
    "    \n",
    "plt.figure(figsize=(6,4))\n",
    "deg_dist = {'attacked': None, 'original': None}\n",
    "for gn in graph_name:\n",
    "    G = data[budget][exp][gn]\n",
    "#     degree_sequence = sorted([d for n, d in G.degree()], reverse=True)\n",
    "    deg_seq = nx.adjacency_matrix(G).todense() * np.matrix(np.ones((len(G), 1))) #* 1489618\n",
    "    deg_seq = [item[0, 0] for item in deg_seq]\n",
    "    degree_sequence = sorted(deg_seq, reverse=True)\n",
    "    degreeCount = collections.Counter(degree_sequence)\n",
    "    deg, cnt = zip(*degreeCount.items())\n",
    "#     deg_dist[gn] = np.array(cnt) / np.sum(cnt)\n",
    "    deg_dist[gn] = deg_seq\n",
    "    if gn == 'attacked':\n",
    "        plt.bar(deg, cnt, width=0.4, color='b', alpha=0.8, align='edge', label='modified')\n",
    "    else:\n",
    "        plt.bar(deg, cnt, width=0.4, color='r', align='edge', label='original')\n",
    "plt.legend(loc='upper center', fontsize=18)\n",
    "plt.ylabel('#nodes')\n",
    "plt.xlabel('degree')\n",
    "plt.tight_layout()\n",
    "# plt.savefig('../result/figure/{}/{}_{}_deg.pdf'.format(graph_weight, graph_type, Key))"
   ]
  },
  {
   "cell_type": "code",
   "execution_count": null,
   "metadata": {},
   "outputs": [],
   "source": []
  },
  {
   "cell_type": "code",
   "execution_count": 374,
   "metadata": {},
   "outputs": [
    {
     "data": {
      "text/plain": [
       "Ttest_indResult(statistic=1.7410092550826766, pvalue=0.08183807116794836)"
      ]
     },
     "execution_count": 374,
     "metadata": {},
     "output_type": "execute_result"
    }
   ],
   "source": [
    "# sci.stats.chisquare(deg_dist['attacked'], deg_dist['original'])\n",
    "sci.stats.ttest_ind(deg_dist['attacked'], deg_dist['original'])"
   ]
  },
  {
   "cell_type": "code",
   "execution_count": null,
   "metadata": {},
   "outputs": [],
   "source": []
  },
  {
   "cell_type": "code",
   "execution_count": 38,
   "metadata": {},
   "outputs": [
    {
     "data": {
      "image/png": "[encoded data removed]",
      "text/plain": [
       "<Figure size 720x360 with 3 Axes>"
      ]
     },
     "metadata": {
      "needs_background": "light"
     },
     "output_type": "display_data"
    }
   ],
   "source": [
    "## visualize the adjacency matrix before and after the attack\n",
    "    \n",
    "def plot_adj_matrices(A, attacked_A):\n",
    "    fig, axes = plt.subplots(1, 2, figsize=(10, 5))\n",
    "    p0 = axes[0].imshow(A, cmap='plasma')\n",
    "    axes[0].set_title('before attack')\n",
    "#     fig.colorbar(p0, ax=axes[0])\n",
    "    p1 = axes[1].imshow(attacked_A, cmap='plasma')\n",
    "    im = axes[1].set_title('after attack')\n",
    "    fig.colorbar(p1, ax=axes[1])\n",
    "\n",
    "#     fig.subplots_adjust(right=0.8)\n",
    "#     cbar_ax = fig.add_axes([0.85, 0.15, 0.05, 0.7])\n",
    "#     fig.colorbar(im, ax=cbar_ax)\n",
    "    \n",
    "graph_type = 'Airport'\n",
    "graph_weight = 'weighted'\n",
    "numExp = 1 if graph_type in ['Email', 'Airport', 'Protein'] else 30\n",
    "exp = 0 if graph_type in ['Email', 'Airport'] else 10\n",
    "Key = 'equalAlpha'\n",
    "budget = 0.5\n",
    "\n",
    "with open('../result/{}/min_eigcent_SP/{}_numExp_{}_ret_{}.p'.format(graph_weight, graph_type, numExp, Key), 'rb') as fid:\n",
    "    data = pickle.load(fid)\n",
    "Attacker = data[budget][0][-1]\n",
    "\n",
    "A_attacked = Attacker.get_attacked_adj() \n",
    "A = Attacker.original_adj \n",
    "\n",
    "# A_attacked /= A_attacked.max()\n",
    "# A  /= A.max()\n",
    "\n",
    "S_attacked = get_submatrix(A_attacked, Attacker.S, Attacker.S)\n",
    "S = get_submatrix(A, Attacker.S, Attacker.S)\n",
    "\n",
    "bound_attacked = get_submatrix(A_attacked, Attacker.S, Attacker.S_prime)\n",
    "bound  = get_submatrix(A, Attacker.S, Attacker.S_prime)\n",
    "\n",
    "# new_idx = torch.cat((Attacker.S, Attacker.S_prime)).numpy()\n",
    "new_idx = Attacker.S.numpy()\n",
    "plot_adj_matrices(A.numpy()[np.ix_(new_idx, new_idx)], A_attacked.numpy()[np.ix_(new_idx, new_idx)])"
   ]
  },
  {
   "cell_type": "code",
   "execution_count": 39,
   "metadata": {},
   "outputs": [
    {
     "data": {
      "text/plain": [
       "7.358885476198452"
      ]
     },
     "execution_count": 39,
     "metadata": {},
     "output_type": "execute_result"
    }
   ],
   "source": [
    "v2 = torch.symeig(0.06 * A_attacked + (1 - 0.24) * torch.eye(len(A_attacked)))[0][-2].numpy()\n",
    "np.log(len(A_attacked)) / v2"
   ]
  },
  {
   "cell_type": "code",
   "execution_count": 948,
   "metadata": {},
   "outputs": [],
   "source": [
    "from networkx.algorithms.community import greedy_modularity_communities, girvan_newman\n",
    "\n",
    "G = nx.read_edgelist('../data/US-airport.txt', nodetype=int, data=(('weight',float),) )\n",
    "comps = nx.connected_components(G)\n",
    "comp_max_idx = max(comps, key=lambda x: len(x))\n",
    "G = G.subgraph(comp_max_idx)\n",
    "mapping = {item: idx for idx, item in enumerate(G.nodes())}\n",
    "G = nx.relabel_nodes(G, mapping)\n",
    "# Adj = nx.adjacency_matrix(G).todense() \n",
    "# Adj /= Adj.max()\n",
    "# G = nx.from_numpy_matrix(Adj)"
   ]
  },
  {
   "cell_type": "code",
   "execution_count": 949,
   "metadata": {},
   "outputs": [
    {
     "data": {
      "text/plain": [
       "1489618.0"
      ]
     },
     "execution_count": 949,
     "metadata": {},
     "output_type": "execute_result"
    }
   ],
   "source": [
    "nx.adjacency_matrix(G).todense().max()"
   ]
  },
  {
   "cell_type": "code",
   "execution_count": null,
   "metadata": {},
   "outputs": [],
   "source": []
  },
  {
   "cell_type": "code",
   "execution_count": null,
   "metadata": {},
   "outputs": [],
   "source": []
  },
  {
   "cell_type": "code",
   "execution_count": 145,
   "metadata": {},
   "outputs": [
    {
     "name": "stdout",
     "output_type": "stream",
     "text": [
      "                 avg. degree  loc. cluster   density  S_size\n",
      "graph    budget                                             \n",
      "attacked 0.1       21.900763      0.504794  0.013941      60\n",
      "         0.2       21.900763      0.504794  0.013941      60\n",
      "         0.3       21.900763      0.504794  0.013941      60\n",
      "         0.4       21.900763      0.504794  0.013941      60\n",
      "         0.5       21.900763      0.504794  0.013941      60\n",
      "original 0.1       21.900763      0.504794  0.013941      60\n",
      "         0.2       21.900763      0.504794  0.013941      60\n",
      "         0.3       21.900763      0.504794  0.013941      60\n",
      "         0.4       21.900763      0.504794  0.013941      60\n",
      "         0.5       21.900763      0.504794  0.013941      60\n"
     ]
    }
   ],
   "source": [
    "### average degree and local clustering coeff.\n",
    "\n",
    "graph_type = 'Airport'\n",
    "numExp = 1 if graph_type in ['Email', 'Airport', 'Protein'] else 30\n",
    "graph_weight = 'weighted'\n",
    "Key = 'equalAlpha'\n",
    "mode = 'min_eigcent_SP'\n",
    "graph_name = ['original', 'attacked']\n",
    "folder = '../result/{}/{}'.format(graph_weight, mode)\n",
    "with open(os.path.join(folder, '{}_numExp_{}_attacked_graphs_{}_newcomm_1.p'.format(graph_type, numExp, Key)), 'rb') as fid:\n",
    "    data = pickle.load(fid)\n",
    "\n",
    "ret = []\n",
    "for budget in [0.1, 0.2, 0.3, 0.4, 0.5]:\n",
    "    for gn in graph_name:\n",
    "        for exp in range(numExp):\n",
    "            G = data[budget][exp][gn]\n",
    "            avg_deg = np.mean([G.degree(i) for i in range(G.order())])\n",
    "            loc_cluster = nx.average_clustering(G)\n",
    "            density = nx.density(G)\n",
    "            S_size = len([i for i in range(G.order()) if G.nodes[i]['target']])\n",
    "            ret.append((avg_deg, loc_cluster, density, S_size, gn, budget))\n",
    "ret = pd.DataFrame(ret, columns=['avg. degree', 'loc. cluster', 'density', 'S_size', 'graph', 'budget'])\n",
    "y = ret.groupby(['graph', 'budget']).mean()\n",
    "print(y)"
   ]
  },
  {
   "cell_type": "code",
   "execution_count": null,
   "metadata": {},
   "outputs": [],
   "source": []
  },
  {
   "cell_type": "code",
   "execution_count": null,
   "metadata": {},
   "outputs": [],
   "source": []
  },
  {
   "cell_type": "code",
   "execution_count": null,
   "metadata": {},
   "outputs": [],
   "source": []
  },
  {
   "cell_type": "code",
   "execution_count": 1084,
   "metadata": {},
   "outputs": [],
   "source": [
    "graph_type = 'Airport'\n",
    "graph_weight = 'weighted'\n",
    "numExp = 1 if graph_type in ['Email', 'Airport'] else 30\n",
    "exp = 0 if graph_type in ['Email', 'Airport'] else 10\n",
    "Key = 'equalAlpha'\n",
    "budget = 0.5\n",
    "with open('../result/{}/min_eigcent_SP/{}_numExp_{}_attacked_graphs_{}.p'.format(graph_weight, graph_type, numExp, Key), 'rb') as fid:\n",
    "    data = pickle.load(fid)"
   ]
  },
  {
   "cell_type": "code",
   "execution_count": 1085,
   "metadata": {},
   "outputs": [],
   "source": [
    "G = data[0.5][0]['original']\n",
    "G_attacked = data[0.5][0]['attacked']"
   ]
  },
  {
   "cell_type": "code",
   "execution_count": 1089,
   "metadata": {},
   "outputs": [
    {
     "data": {
      "text/plain": [
       "{'weight': 6.041817432388706e-06}"
      ]
     },
     "execution_count": 1089,
     "metadata": {},
     "output_type": "execute_result"
    }
   ],
   "source": [
    "G[0][1]"
   ]
  },
  {
   "cell_type": "code",
   "execution_count": 1090,
   "metadata": {},
   "outputs": [
    {
     "data": {
      "text/plain": [
       "{'weight': 5.393522769736592e-06}"
      ]
     },
     "execution_count": 1090,
     "metadata": {},
     "output_type": "execute_result"
    }
   ],
   "source": [
    "G_attacked[0][1]"
   ]
  },
  {
   "cell_type": "code",
   "execution_count": null,
   "metadata": {},
   "outputs": [],
   "source": []
  }
 ],
 "metadata": {
  "kernelspec": {
   "display_name": "Python 3",
   "language": "python",
   "name": "python3"
  },
  "language_info": {
   "codemirror_mode": {
    "name": "ipython",
    "version": 3
   },
   "file_extension": ".py",
   "mimetype": "text/x-python",
   "name": "python",
   "nbconvert_exporter": "python",
   "pygments_lexer": "ipython3",
   "version": "3.7.5"
  },
  "latex_envs": {
   "LaTeX_envs_menu_present": true,
   "autoclose": false,
   "autocomplete": false,
   "bibliofile": "biblio.bib",
   "cite_by": "apalike",
   "current_citInitial": 1,
   "eqLabelWithNumbers": true,
   "eqNumInitial": 1,
   "hotkeys": {
    "equation": "Ctrl-E",
    "itemize": "Ctrl-I"
   },
   "labels_anchors": false,
   "latex_user_defs": false,
   "report_style_numbering": true,
   "user_envs_cfg": false
  }
 },
 "nbformat": 4,
 "nbformat_minor": 2
}
